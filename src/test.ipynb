{
 "cells": [
  {
   "cell_type": "code",
   "execution_count": null,
   "metadata": {},
   "outputs": [],
   "source": [
    "%run myio.py"
   ]
  },
  {
   "cell_type": "code",
   "execution_count": null,
   "metadata": {},
   "outputs": [],
   "source": [
    "# testing data\n",
    "\n",
    "e = [2.5,3,6,7.8,9.0,'adf',True,'asdf\"asdf']\n",
    "data_dimension1 = e\n",
    "data_dimension2 = [e,e,e,e]\n",
    "data_dimension3 = [data_dimension2,data_dimension2,data_dimension2,data_dimension2]\n",
    "\n",
    "output_file = \"./test.file\""
   ]
  },
  {
   "cell_type": "code",
   "execution_count": null,
   "metadata": {},
   "outputs": [],
   "source": [
    "# examples of writing/dumping data into a file"
   ]
  },
  {
   "cell_type": "code",
   "execution_count": null,
   "metadata": {},
   "outputs": [],
   "source": [
    "# write a list of list to a csv file\n",
    "header_list = ['h1','h2','h3','h4','h5','h6','h7','h8']\n",
    "writelist_tocsv(output_file, data_dimension2, header_list)"
   ]
  },
  {
   "cell_type": "code",
   "execution_count": null,
   "metadata": {},
   "outputs": [],
   "source": [
    "# append a list of list into a csv file\n",
    "header_list = ['h1','h2','h3','h4','h5','h6','h7','h8']\n",
    "addlist_tocsv(output_file, data_dimension2, header_list)"
   ]
  },
  {
   "cell_type": "code",
   "execution_count": null,
   "metadata": {},
   "outputs": [],
   "source": [
    "# append an item of list into a csv file\n",
    "additem_tocsv(output_file, data_dimension1)"
   ]
  },
  {
   "cell_type": "code",
   "execution_count": null,
   "metadata": {},
   "outputs": [],
   "source": [
    "# write a list of list to a csv file using pandas\n",
    "header_list = ['h1','h2','h3','h4','h5','h6','h7','h8']\n",
    "writelist_tocsv_pd(output_file, data_dimension2, header_list)"
   ]
  },
  {
   "cell_type": "code",
   "execution_count": null,
   "metadata": {},
   "outputs": [],
   "source": [
    "# write multiple lines into a file\n",
    "header_str = 'h1,h2,h3,h4,h5,h6,h7,h8'\n",
    "writelines_tofile(output_file, data_dimension1, header_str)"
   ]
  },
  {
   "cell_type": "code",
   "execution_count": null,
   "metadata": {},
   "outputs": [],
   "source": [
    "# append multiple lines into a file\n",
    "addlines_tofile(output_file, data_dimension1)"
   ]
  },
  {
   "cell_type": "code",
   "execution_count": null,
   "metadata": {},
   "outputs": [],
   "source": [
    "# append one line to a file\n",
    "str_line = \"Hello world!\"\n",
    "addline_tofile(output_file, str_line)"
   ]
  },
  {
   "cell_type": "code",
   "execution_count": null,
   "metadata": {},
   "outputs": [],
   "source": [
    "# dump (Serialize) an object (data structure) into a file, using pickle\n",
    "mydump(output_file, data_dimension3) # same as dump_pik(output_file, data_dimension3)"
   ]
  },
  {
   "cell_type": "code",
   "execution_count": null,
   "metadata": {},
   "outputs": [],
   "source": [
    "# dump (Serialize) an object (data structure) into a json file, using json\n",
    "dump_json(output_file, data_dimension3)"
   ]
  },
  {
   "cell_type": "code",
   "execution_count": null,
   "metadata": {},
   "outputs": [],
   "source": []
  },
  {
   "cell_type": "code",
   "execution_count": null,
   "metadata": {},
   "outputs": [],
   "source": [
    "# examples of read/loading data into a file\n",
    "input_file = \"./test.file\""
   ]
  },
  {
   "cell_type": "code",
   "execution_count": null,
   "metadata": {},
   "outputs": [],
   "source": [
    "# read a csv file into a list of list\n",
    "data = myload_csv(input_file, is_header = True) # same as: load_csv, load_csv_v2"
   ]
  },
  {
   "cell_type": "code",
   "execution_count": null,
   "metadata": {},
   "outputs": [],
   "source": [
    "# load a csv file into a list (of list) using pandas\n",
    "data = load_csv_as_list_by_pandas(input_file)"
   ]
  },
  {
   "cell_type": "code",
   "execution_count": null,
   "metadata": {},
   "outputs": [],
   "source": [
    "# load a csv file into pandas dataframe\n",
    "df = load_csv_as_df_by_pandas(input_file)"
   ]
  },
  {
   "cell_type": "code",
   "execution_count": null,
   "metadata": {},
   "outputs": [],
   "source": [
    "# load (unserialize) an object (data structure) from a file, using pickle\n",
    "mydata = myload(output_file) # same as load_pik(output_file)"
   ]
  },
  {
   "cell_type": "code",
   "execution_count": null,
   "metadata": {},
   "outputs": [],
   "source": [
    "# load (unserialize) an object (data structure) from a json file, using json\n",
    "load_json(output_file)"
   ]
  },
  {
   "cell_type": "code",
   "execution_count": null,
   "metadata": {},
   "outputs": [],
   "source": []
  },
  {
   "cell_type": "code",
   "execution_count": null,
   "metadata": {},
   "outputs": [],
   "source": []
  },
  {
   "cell_type": "code",
   "execution_count": null,
   "metadata": {},
   "outputs": [],
   "source": []
  },
  {
   "cell_type": "code",
   "execution_count": null,
   "metadata": {},
   "outputs": [],
   "source": []
  },
  {
   "cell_type": "code",
   "execution_count": null,
   "metadata": {},
   "outputs": [],
   "source": []
  },
  {
   "cell_type": "code",
   "execution_count": null,
   "metadata": {},
   "outputs": [],
   "source": []
  }
 ],
 "metadata": {
  "kernelspec": {
   "display_name": "Python 3",
   "language": "python",
   "name": "python3"
  },
  "language_info": {
   "codemirror_mode": {
    "name": "ipython",
    "version": 3
   },
   "file_extension": ".py",
   "mimetype": "text/x-python",
   "name": "python",
   "nbconvert_exporter": "python",
   "pygments_lexer": "ipython3",
   "version": "3.7.1"
  }
 },
 "nbformat": 4,
 "nbformat_minor": 2
}
